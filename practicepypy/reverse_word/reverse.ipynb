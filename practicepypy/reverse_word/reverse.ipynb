{
 "cells": [
  {
   "cell_type": "markdown",
   "id": "c04199ea-b483-41b6-9337-397e221bccca",
   "metadata": {},
   "source": [
    "# What should the program do ?\n",
    "\n",
    "Write a program (using functions!) that asks the user for a long string containing multiple words. Print back to the user the same string, except with the words in backwards order. For example, say I type the string:\n",
    "\n",
    "  My name is Michele\n",
    "Then I would see the string:\n",
    "\n",
    "  Michele is name My\n",
    "shown back to me."
   ]
  },
  {
   "cell_type": "code",
   "execution_count": 28,
   "id": "0ced02a1-5167-434f-803a-88a48abb43d7",
   "metadata": {},
   "outputs": [],
   "source": [
    "def reverse_order(sentence):\n",
    "    split_sentence = sentence.split(' ')\n",
    "    split_sentence.reverse()\n",
    "        \n",
    "    return \" \".join(split_sentence)\n"
   ]
  },
  {
   "cell_type": "code",
   "execution_count": 30,
   "id": "5e84d75c-c898-445d-8059-894181dbc5d5",
   "metadata": {},
   "outputs": [
    {
     "name": "stdin",
     "output_type": "stream",
     "text": [
      "Enter a sentence and boom we will reverse it...  Cool is jorge\n"
     ]
    },
    {
     "data": {
      "text/plain": [
       "'jorge is Cool'"
      ]
     },
     "execution_count": 30,
     "metadata": {},
     "output_type": "execute_result"
    }
   ],
   "source": [
    "x = input(\"Enter a sentence and boom we will reverse it... \")\n",
    "reverse_order(x)"
   ]
  },
  {
   "cell_type": "code",
   "execution_count": null,
   "id": "f1c8287b-0f68-4e93-8d86-5558b9a22910",
   "metadata": {},
   "outputs": [],
   "source": []
  }
 ],
 "metadata": {
  "kernelspec": {
   "display_name": "Python 3",
   "language": "python",
   "name": "python3"
  },
  "language_info": {
   "codemirror_mode": {
    "name": "ipython",
    "version": 3
   },
   "file_extension": ".py",
   "mimetype": "text/x-python",
   "name": "python",
   "nbconvert_exporter": "python",
   "pygments_lexer": "ipython3",
   "version": "3.8.5"
  }
 },
 "nbformat": 4,
 "nbformat_minor": 5
}
