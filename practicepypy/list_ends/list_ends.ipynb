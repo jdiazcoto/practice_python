{
 "cells": [
  {
   "cell_type": "markdown",
   "id": "86264731-0600-4b69-b31c-01dd0d16156e",
   "metadata": {},
   "source": [
    "# What should the program do?\n",
    "Write a program that takes a list of numbers (for example, a = [5, 10, 15, 20, 25]) and makes a new list of only the first and last elements of the given list. For practice, write this code inside a function.\n",
    "\n"
   ]
  },
  {
   "cell_type": "code",
   "execution_count": 1,
   "id": "20bbce58-9349-49f3-a21d-87aa2d56130c",
   "metadata": {},
   "outputs": [],
   "source": [
    "def list_ends(aList):\n",
    "    newList = []\n",
    "    newList.append(aList[0])\n",
    "    newList.append(aList[-1])\n",
    "    return newList"
   ]
  },
  {
   "cell_type": "code",
   "execution_count": 2,
   "id": "919b271e-ca39-4b02-9162-c512bb15f796",
   "metadata": {},
   "outputs": [],
   "source": [
    "a = list_ends([1,2,3,4,5])"
   ]
  },
  {
   "cell_type": "code",
   "execution_count": 3,
   "id": "cea420ac-9705-43df-8b0a-6dd49df17b93",
   "metadata": {},
   "outputs": [
    {
     "name": "stdout",
     "output_type": "stream",
     "text": [
      "[1, 5]\n"
     ]
    }
   ],
   "source": [
    "print(a)"
   ]
  },
  {
   "cell_type": "code",
   "execution_count": null,
   "id": "819c983a-ffe8-4bc7-83c7-0d90a7c4b415",
   "metadata": {},
   "outputs": [],
   "source": []
  }
 ],
 "metadata": {
  "kernelspec": {
   "display_name": "Python 3",
   "language": "python",
   "name": "python3"
  },
  "language_info": {
   "codemirror_mode": {
    "name": "ipython",
    "version": 3
   },
   "file_extension": ".py",
   "mimetype": "text/x-python",
   "name": "python",
   "nbconvert_exporter": "python",
   "pygments_lexer": "ipython3",
   "version": "3.8.5"
  }
 },
 "nbformat": 4,
 "nbformat_minor": 5
}
