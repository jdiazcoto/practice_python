{
 "cells": [
  {
   "cell_type": "markdown",
   "id": "e384b2d6-2ae1-4a73-a0cd-c45c8b819262",
   "metadata": {},
   "source": [
    "# What should the program do?\n",
    "Create a program that asks the user for a number and then prints out a list of all the divisors of that number. (If you don’t know what a divisor is, it is a number that divides evenly into another number. For example, 13 is a divisor of 26 because 26 / 13 has no remainder.)\n",
    "\n"
   ]
  },
  {
   "cell_type": "code",
   "execution_count": 8,
   "id": "53eb8cc0-24f7-4ee4-9300-a5c473bf23b6",
   "metadata": {},
   "outputs": [
    {
     "name": "stdin",
     "output_type": "stream",
     "text": [
      "Input a number to find it's divisors:  250\n"
     ]
    },
    {
     "name": "stdout",
     "output_type": "stream",
     "text": [
      "1\n",
      "2\n",
      "5\n",
      "10\n",
      "25\n",
      "50\n",
      "125\n",
      "250\n"
     ]
    }
   ],
   "source": [
    "num = int(input(\"Input a number to find it's divisors: \"))\n",
    "#NAIVE SOLUTION\n",
    "i= 1\n",
    "while i<= num:\n",
    "    if num % i == 0:\n",
    "         print(i)\n",
    "    i +=1"
   ]
  },
  {
   "cell_type": "code",
   "execution_count": null,
   "id": "fc004c8d-735c-463a-8952-2e30b216a99e",
   "metadata": {},
   "outputs": [],
   "source": []
  }
 ],
 "metadata": {
  "kernelspec": {
   "display_name": "Python 3",
   "language": "python",
   "name": "python3"
  },
  "language_info": {
   "codemirror_mode": {
    "name": "ipython",
    "version": 3
   },
   "file_extension": ".py",
   "mimetype": "text/x-python",
   "name": "python",
   "nbconvert_exporter": "python",
   "pygments_lexer": "ipython3",
   "version": "3.8.5"
  }
 },
 "nbformat": 4,
 "nbformat_minor": 5
}
