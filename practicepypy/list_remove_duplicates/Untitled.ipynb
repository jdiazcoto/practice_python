{
 "cells": [
  {
   "cell_type": "markdown",
   "id": "0f603cbf-4fc2-42b6-8f39-a600790a9633",
   "metadata": {},
   "source": [
    "# What should the program do?\n",
    "Write a program (function!) that takes a list and returns a new list that contains all the elements of the first list minus all the duplicates.\n",
    "\n",
    "Extras:\n",
    "\n",
    "Write two different functions to do this - one using a loop and constructing a list, and another using sets."
   ]
  },
  {
   "cell_type": "code",
   "execution_count": 5,
   "id": "b36e9b50-425e-4062-af9e-068ac4f2607f",
   "metadata": {},
   "outputs": [],
   "source": [
    "def no_duplicates_with_loop(original):\n",
    "    new_list = []\n",
    "    for i in original:\n",
    "        if i not in new_list:\n",
    "            new_list.append(i)\n",
    "    return new_list"
   ]
  },
  {
   "cell_type": "code",
   "execution_count": 6,
   "id": "0bad7e3d-aacc-45ad-a027-30876e8c0789",
   "metadata": {},
   "outputs": [
    {
     "data": {
      "text/plain": [
       "[1, 2, 3]"
      ]
     },
     "execution_count": 6,
     "metadata": {},
     "output_type": "execute_result"
    }
   ],
   "source": [
    "no_duplicates_with_loop([1,1,1,2,2,2,3,3,3])"
   ]
  },
  {
   "cell_type": "code",
   "execution_count": 10,
   "id": "1fc10a3c-f935-45e4-8ebf-94a4050554c1",
   "metadata": {},
   "outputs": [],
   "source": [
    "def no_duplicates_with_set(original):\n",
    "    return(list(set(original)))"
   ]
  },
  {
   "cell_type": "code",
   "execution_count": 11,
   "id": "010450d1-7d42-4f3c-bcd5-c71d1aee469a",
   "metadata": {},
   "outputs": [
    {
     "data": {
      "text/plain": [
       "[1, 2, 3]"
      ]
     },
     "execution_count": 11,
     "metadata": {},
     "output_type": "execute_result"
    }
   ],
   "source": [
    "no_duplicates_with_set([1,1,1,2,2,2,3,3,3])"
   ]
  },
  {
   "cell_type": "code",
   "execution_count": null,
   "id": "e8c549c8-b98f-42a2-8258-d6f9f693b8bd",
   "metadata": {},
   "outputs": [],
   "source": []
  }
 ],
 "metadata": {
  "kernelspec": {
   "display_name": "Python 3",
   "language": "python",
   "name": "python3"
  },
  "language_info": {
   "codemirror_mode": {
    "name": "ipython",
    "version": 3
   },
   "file_extension": ".py",
   "mimetype": "text/x-python",
   "name": "python",
   "nbconvert_exporter": "python",
   "pygments_lexer": "ipython3",
   "version": "3.8.5"
  }
 },
 "nbformat": 4,
 "nbformat_minor": 5
}
