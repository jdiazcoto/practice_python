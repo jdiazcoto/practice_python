{
 "cells": [
  {
   "cell_type": "markdown",
   "id": "343562d4-9e7f-47e2-a545-1829ab57ab5e",
   "metadata": {},
   "source": [
    "# What should the program do?\n",
    "Write a program that asks the user how many Fibonnaci numbers to generate and then generates them. Take this opportunity to think about how you can use functions. Make sure to ask the user to enter the number of numbers in the sequence to generate.(Hint: The Fibonnaci seqence is a sequence of numbers where the next number in the sequence is the sum of the previous two numbers in the sequence. The sequence looks like this: 1, 1, 2, 3, 5, 8, 13, …)"
   ]
  },
  {
   "cell_type": "code",
   "execution_count": 30,
   "id": "e9dacc61-fd6e-470a-bb43-0b372c0eb36e",
   "metadata": {},
   "outputs": [],
   "source": [
    "def fibonnaci(number_of_digits):\n",
    "    i = 1\n",
    "    \n",
    "    if number_of_digits == 0:\n",
    "        fib = [0]\n",
    "    elif number_of_digits == 1:\n",
    "        fib = [1]\n",
    "    elif number_of_digits == 2:\n",
    "        fib = [1,1]\n",
    "    elif number_of_digits > 2:\n",
    "        fib = [1,1]\n",
    "        while i < number_of_digits-1:\n",
    "            fib.append(fib[i] + fib[i-1])\n",
    "            i+=1\n",
    "    return fib"
   ]
  },
  {
   "cell_type": "code",
   "execution_count": 34,
   "id": "091d91c3-0006-462e-84d1-1f37fd3acdca",
   "metadata": {},
   "outputs": [
    {
     "name": "stdin",
     "output_type": "stream",
     "text": [
      "How many digits of the fibonnaci series do you wish to see... 6\n"
     ]
    },
    {
     "data": {
      "text/plain": [
       "[1, 1, 2, 3, 5, 8]"
      ]
     },
     "execution_count": 34,
     "metadata": {},
     "output_type": "execute_result"
    }
   ],
   "source": [
    "num = int(input(\"How many digits of the fibonnaci series do you wish to see...\"))\n",
    "fibonnaci(num)"
   ]
  },
  {
   "cell_type": "code",
   "execution_count": null,
   "id": "aa4dc7b1-a370-4b25-bc36-8e7fd1e6838f",
   "metadata": {},
   "outputs": [],
   "source": []
  }
 ],
 "metadata": {
  "kernelspec": {
   "display_name": "Python 3",
   "language": "python",
   "name": "python3"
  },
  "language_info": {
   "codemirror_mode": {
    "name": "ipython",
    "version": 3
   },
   "file_extension": ".py",
   "mimetype": "text/x-python",
   "name": "python",
   "nbconvert_exporter": "python",
   "pygments_lexer": "ipython3",
   "version": "3.8.5"
  }
 },
 "nbformat": 4,
 "nbformat_minor": 5
}
