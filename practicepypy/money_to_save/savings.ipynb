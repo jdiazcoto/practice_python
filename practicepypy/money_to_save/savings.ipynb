{
 "cells": [
  {
   "cell_type": "code",
   "execution_count": 20,
   "id": "7b439ca1-5600-485e-838b-ef772710f210",
   "metadata": {},
   "outputs": [
    {
     "name": "stdin",
     "output_type": "stream",
     "text": [
      "What is your current age?  40\n",
      "When will you retire?  75\n",
      "How many dollars do you want per month when you retire?  2500\n",
      "What is the current exchange rate b/w lps and dollars ? 24\n"
     ]
    },
    {
     "name": "stdout",
     "output_type": "stream",
     "text": [
      "You have 35 years to retire, and you will live 24 after retiring!\n",
      "You will need $ 720000 according to your plans!\n",
      "You need to save 1714.2857142857144 per month\n",
      ".....So residually your income should give you 41142.857142857145 for 35 years per month....\n",
      "\n",
      "How do we crack that nut ?\n"
     ]
    }
   ],
   "source": [
    "age = input(\"What is your current age? \")\n",
    "retirement_age = input(\"When will you retire? \")\n",
    "dollars_after_retiring = input(\"How many dollars do you want per month when you retire? \")\n",
    "exchange_rate = input(\"What is the current exchange rate b/w lps and dollars ?\")\n",
    "\n",
    "\n",
    "retirement_to_death = 99 - int(retirement_age)\n",
    "years_to_retire = int(retirement_age) - int(age)\n",
    "monthly_savings = (total_money_to_death/years_to_retire)/12\n",
    "savings_in_lps = monthly_savings*float(exchange_rate)\n",
    "total_money_to_death = int(dollars_after_retiring) *(retirement_to_death*12)\n",
    "print(f\"You have {years_to_retire} years to retire, and you will live {retirement_to_death} after retiring!\")\n",
    "print(f\"You will need $ {total_money_to_death} according to your plans!\")\n",
    "print(f\"You need to save {monthly_savings} per month\")\n",
    "print(f\".....So residually your income should give you {savings_in_lps} for {years_to_retire} years per month....\")\n",
    "print()\n",
    "print(\"How do we crack that nut ?\")"
   ]
  },
  {
   "cell_type": "code",
   "execution_count": null,
   "id": "f74115cf-3c52-4b82-a433-64941cbef59f",
   "metadata": {},
   "outputs": [],
   "source": []
  },
  {
   "cell_type": "code",
   "execution_count": null,
   "id": "ed0c276f-0ecc-40d7-8182-9d3bf35a971d",
   "metadata": {},
   "outputs": [],
   "source": []
  }
 ],
 "metadata": {
  "kernelspec": {
   "display_name": "Python 3",
   "language": "python",
   "name": "python3"
  },
  "language_info": {
   "codemirror_mode": {
    "name": "ipython",
    "version": 3
   },
   "file_extension": ".py",
   "mimetype": "text/x-python",
   "name": "python",
   "nbconvert_exporter": "python",
   "pygments_lexer": "ipython3",
   "version": "3.8.5"
  }
 },
 "nbformat": 4,
 "nbformat_minor": 5
}
