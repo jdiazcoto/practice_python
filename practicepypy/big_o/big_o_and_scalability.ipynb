{
 "cells": [
  {
   "cell_type": "code",
   "execution_count": 3,
   "id": "822e402e-d2bd-4d70-843d-e72854197ca7",
   "metadata": {},
   "outputs": [],
   "source": [
    "nemo = ['nemo']"
   ]
  },
  {
   "cell_type": "code",
   "execution_count": 4,
   "id": "be8a9eaa-0cd5-4d85-b9c3-c4854e2f8944",
   "metadata": {},
   "outputs": [],
   "source": [
    "def findNemo(array):\n",
    "    for i in array:\n",
    "        if i == 'nemo':\n",
    "            print(\"Found Nemo!\")"
   ]
  },
  {
   "cell_type": "code",
   "execution_count": 5,
   "id": "4d1ac25a-9af6-4c9f-9744-55ecad3c4c06",
   "metadata": {},
   "outputs": [
    {
     "name": "stdout",
     "output_type": "stream",
     "text": [
      "Found Nemo!\n"
     ]
    }
   ],
   "source": [
    "findNemo(nemo)"
   ]
  },
  {
   "cell_type": "code",
   "execution_count": null,
   "id": "467a6e93-feb5-479e-90d2-aebe66500444",
   "metadata": {},
   "outputs": [],
   "source": []
  }
 ],
 "metadata": {
  "kernelspec": {
   "display_name": "Python 3",
   "language": "python",
   "name": "python3"
  },
  "language_info": {
   "codemirror_mode": {
    "name": "ipython",
    "version": 3
   },
   "file_extension": ".py",
   "mimetype": "text/x-python",
   "name": "python",
   "nbconvert_exporter": "python",
   "pygments_lexer": "ipython3",
   "version": "3.8.5"
  }
 },
 "nbformat": 4,
 "nbformat_minor": 5
}
