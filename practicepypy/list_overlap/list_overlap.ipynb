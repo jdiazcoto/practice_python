{
 "cells": [
  {
   "cell_type": "markdown",
   "id": "3dbaef35-671b-4e3f-9de4-9e29964c0e8f",
   "metadata": {},
   "source": [
    "# What should the program do ?\n",
    "Take two lists, say for example these two:\n",
    "\n",
    "  a = [1, 1, 2, 3, 5, 8, 13, 21, 34, 55, 89]\n",
    "  b = [1, 2, 3, 4, 5, 6, 7, 8, 9, 10, 11, 12, 13]\n",
    "and write a program that returns a list that contains only the elements that are common between the lists (without duplicates). Make sure your program works on two lists of different sizes.\n",
    "\n",
    "Extras:\n",
    "\n",
    "1. Randomly generate two lists to test this\n",
    "2. Write this in one line of Python (don’t worry if you can’t figure this out at this point - we’ll get to it soon)"
   ]
  },
  {
   "cell_type": "code",
   "execution_count": 1,
   "id": "fea6e88a-1c08-4f91-9f86-aded95690e46",
   "metadata": {},
   "outputs": [
    {
     "name": "stdout",
     "output_type": "stream",
     "text": [
      "[1, 2, 3, 5, 8, 13]\n"
     ]
    }
   ],
   "source": [
    "a = [1, 1, 2, 3, 5, 8, 13, 21, 34, 55, 89] \n",
    "b = [1, 2, 3, 4, 5, 6, 7, 8, 9, 10, 11, 12, 13]\n",
    "\n",
    "c = []\n",
    "for x in a:\n",
    "    for z in b:\n",
    "        if x == z:\n",
    "            if x not in c:\n",
    "                c.append(x)\n",
    "            \n",
    "print(c)"
   ]
  },
  {
   "cell_type": "code",
   "execution_count": 17,
   "id": "45ab9c28-c46d-448f-a358-fd3cf28ecd31",
   "metadata": {},
   "outputs": [
    {
     "name": "stdout",
     "output_type": "stream",
     "text": [
      "[26, 28, 24, 27, 25, 10, 21]\n"
     ]
    }
   ],
   "source": [
    "import random\n",
    "#Generate 5 random numbers between 10 and 30\n",
    "randomlist = random.sample(range(10, 30), 7)\n",
    "print(randomlist)\n"
   ]
  },
  {
   "cell_type": "code",
   "execution_count": 18,
   "id": "4cb47d7c-c947-422d-ba89-09f976e7840b",
   "metadata": {},
   "outputs": [
    {
     "name": "stdout",
     "output_type": "stream",
     "text": [
      "[28, 27, 24, 13, 25, 23, 10]\n"
     ]
    }
   ],
   "source": [
    "#Generate 5 random numbers between 10 and 30\n",
    "randomlist_two = random.sample(range(10, 30), 7)\n",
    "print(randomlist_two)\n"
   ]
  },
  {
   "cell_type": "code",
   "execution_count": 19,
   "id": "9f1b3e96-b2f8-4231-ac29-a1235f78b37c",
   "metadata": {},
   "outputs": [
    {
     "name": "stdout",
     "output_type": "stream",
     "text": [
      "[28, 24, 27, 25, 10]\n"
     ]
    }
   ],
   "source": [
    "result = []\n",
    "for i in randomlist:\n",
    "    for j in randomlist_two:\n",
    "        if i == j:\n",
    "            if i not in result:\n",
    "                result.append(i)\n",
    "print(result)"
   ]
  },
  {
   "cell_type": "code",
   "execution_count": null,
   "id": "8bb5bd87-8ee0-40d3-84f8-e536a2db0102",
   "metadata": {},
   "outputs": [],
   "source": []
  }
 ],
 "metadata": {
  "kernelspec": {
   "display_name": "Python 3",
   "language": "python",
   "name": "python3"
  },
  "language_info": {
   "codemirror_mode": {
    "name": "ipython",
    "version": 3
   },
   "file_extension": ".py",
   "mimetype": "text/x-python",
   "name": "python",
   "nbconvert_exporter": "python",
   "pygments_lexer": "ipython3",
   "version": "3.8.5"
  }
 },
 "nbformat": 4,
 "nbformat_minor": 5
}
