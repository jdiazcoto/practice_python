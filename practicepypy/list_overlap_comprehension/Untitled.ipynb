{
 "cells": [
  {
   "cell_type": "markdown",
   "id": "2927d0bc-c29a-4755-b106-9798f4d60f33",
   "metadata": {},
   "source": [
    "# What should the program do?\n",
    "This week’s exercise is going to be revisiting an old exercise (see Exercise 5), except require the solution in a different way.\n",
    "\n",
    "Take two lists, say for example these two:\n",
    "\n",
    "\ta = [1, 1, 2, 3, 5, 8, 13, 21, 34, 55, 89]\n",
    "\tb = [1, 2, 3, 4, 5, 6, 7, 8, 9, 10, 11, 12, 13]\n",
    "and write a program that returns a list that contains only the elements that are common between the lists (without duplicates). Make sure your program works on two lists of different sizes. Write this in one line of Python using at least one list comprehension. (Hint: Remember list comprehensions from Exercise 7).\n",
    "\n",
    "The original formulation of this exercise said to write the solution using one line of Python, but a few readers pointed out that this was impossible to do without using sets that I had not yet discussed on the blog, so you can either choose to use the original directive and read about the set command in Python 3.3, or try to implement this on your own and use at least one list comprehension in the solution.\n",
    "\n",
    "Extra:\n",
    "\n",
    "Randomly generate two lists to test this"
   ]
  },
  {
   "cell_type": "code",
   "execution_count": 1,
   "id": "73e9776e-1cc9-4ad9-b924-02b6a6733267",
   "metadata": {},
   "outputs": [],
   "source": [
    "a = [1, 1, 2, 3, 5, 8, 13, 21, 34, 55, 89]\n",
    "b = [1, 2, 3, 4, 5, 6, 7, 8, 9, 10, 11, 12, 13]\n",
    "c = []\n",
    "for i in a:\n",
    "    if i in b:\n",
    "        if i not in c:\n",
    "            c.append(i)"
   ]
  },
  {
   "cell_type": "code",
   "execution_count": 2,
   "id": "55ea88b8-5d6d-4ff7-9991-0b52fd6e4101",
   "metadata": {},
   "outputs": [
    {
     "name": "stdout",
     "output_type": "stream",
     "text": [
      "[1, 2, 3, 5, 8, 13]\n"
     ]
    }
   ],
   "source": [
    "print(c)"
   ]
  },
  {
   "cell_type": "code",
   "execution_count": 42,
   "id": "4c5dd288-38ea-4d0d-af16-2d13251a4fe5",
   "metadata": {},
   "outputs": [
    {
     "name": "stdout",
     "output_type": "stream",
     "text": [
      "[26, 2, 26, 14, 11, 16, 2, 1, 23, 6]\n",
      "[19, 26, 15, 4, 28, 24, 3, 24, 6, 22]\n"
     ]
    }
   ],
   "source": [
    "import random\n",
    "randomlist_one = []\n",
    "randomlist_two = []\n",
    "for i in range(0,10):\n",
    "    n = random.randint(1,30)\n",
    "    x = random.randint(1,30)\n",
    "    randomlist_one.append(n)\n",
    "    randomlist_two.append(x)\n",
    "print(randomlist_one)\n",
    "print(randomlist_two)"
   ]
  },
  {
   "cell_type": "code",
   "execution_count": 51,
   "id": "0f376c18-d434-47a7-ad29-36d340b1ec25",
   "metadata": {},
   "outputs": [],
   "source": [
    "d = [i for i in set(randomlist_one) if i  in randomlist_two]"
   ]
  },
  {
   "cell_type": "code",
   "execution_count": 52,
   "id": "197626e0-3d36-46c2-8f3c-3d034621d4fe",
   "metadata": {},
   "outputs": [
    {
     "name": "stdout",
     "output_type": "stream",
     "text": [
      "[6, 26]\n"
     ]
    }
   ],
   "source": [
    "print(d)"
   ]
  },
  {
   "cell_type": "code",
   "execution_count": 57,
   "id": "706cb238-5f97-4b67-9140-e71d81c884e4",
   "metadata": {},
   "outputs": [],
   "source": [
    "# A much more concise way\n",
    "a = random.sample(range(1,30), 12)\n",
    "b = random.sample(range(1,30), 16)\n",
    "result = [i for i in a if i in b]"
   ]
  },
  {
   "cell_type": "code",
   "execution_count": 58,
   "id": "1dc04da6-f812-49e1-8cd7-5fe7693b8f6e",
   "metadata": {},
   "outputs": [
    {
     "data": {
      "text/plain": [
       "[14, 18, 27, 3, 1, 17, 24, 20]"
      ]
     },
     "execution_count": 58,
     "metadata": {},
     "output_type": "execute_result"
    }
   ],
   "source": [
    "result"
   ]
  },
  {
   "cell_type": "code",
   "execution_count": null,
   "id": "b25caa5f-9dcf-48a7-be88-bf3c75b98329",
   "metadata": {},
   "outputs": [],
   "source": []
  },
  {
   "cell_type": "code",
   "execution_count": null,
   "id": "540707e8-c6e0-4266-81d5-ae58ee66016d",
   "metadata": {},
   "outputs": [],
   "source": []
  }
 ],
 "metadata": {
  "kernelspec": {
   "display_name": "Python 3",
   "language": "python",
   "name": "python3"
  },
  "language_info": {
   "codemirror_mode": {
    "name": "ipython",
    "version": 3
   },
   "file_extension": ".py",
   "mimetype": "text/x-python",
   "name": "python",
   "nbconvert_exporter": "python",
   "pygments_lexer": "ipython3",
   "version": "3.8.5"
  }
 },
 "nbformat": 4,
 "nbformat_minor": 5
}
