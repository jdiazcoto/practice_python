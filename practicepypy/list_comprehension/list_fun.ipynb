{
 "cells": [
  {
   "cell_type": "markdown",
   "id": "433c176e-a14e-4153-bae8-003c30c3251c",
   "metadata": {},
   "source": [
    "# What should the program do?\n",
    "Let’s say I give you a list saved in a variable: a = [1, 4, 9, 16, 25, 36, 49, 64, 81, 100]. Write one line of Python that takes this list a and makes a new list that has only the even elements of this list in it.\n",
    "\n"
   ]
  },
  {
   "cell_type": "code",
   "execution_count": null,
   "id": "8a3ba9ba-be89-4a30-a86e-7c1f60a546d0",
   "metadata": {},
   "outputs": [],
   "source": [
    "b = [for i in a if i%2 ==]"
   ]
  }
 ],
 "metadata": {
  "kernelspec": {
   "display_name": "Python 3",
   "language": "python",
   "name": "python3"
  },
  "language_info": {
   "codemirror_mode": {
    "name": "ipython",
    "version": 3
   },
   "file_extension": ".py",
   "mimetype": "text/x-python",
   "name": "python",
   "nbconvert_exporter": "python",
   "pygments_lexer": "ipython3",
   "version": "3.8.5"
  }
 },
 "nbformat": 4,
 "nbformat_minor": 5
}
