{
 "cells": [
  {
   "cell_type": "markdown",
   "id": "1e0dd841-cc50-48ef-a8b0-acf8f3ea12f8",
   "metadata": {},
   "source": [
    "# What should the program do ?\n",
    "Ask the user for a string and print out whether this string is a palindrome or not. (A palindrome is a string that reads the same forwards and backwards.)"
   ]
  },
  {
   "cell_type": "code",
   "execution_count": 7,
   "id": "9291a9d7-6fa4-4cbd-ab29-50791115d895",
   "metadata": {},
   "outputs": [],
   "source": [
    "def reverse(text):\n",
    "    rev = ''\n",
    "    for i in range(len(text), 0, -1):\n",
    "        rev += text[i-1]\n",
    "    return rev"
   ]
  },
  {
   "cell_type": "code",
   "execution_count": 12,
   "id": "db9f0010-a449-4418-a7f9-964458ecdfbf",
   "metadata": {},
   "outputs": [
    {
     "name": "stdin",
     "output_type": "stream",
     "text": [
      "Give me a word to see if it's a palindrome or not... xyza\n"
     ]
    },
    {
     "name": "stdout",
     "output_type": "stream",
     "text": [
      "Nope...not a palindrome\n"
     ]
    }
   ],
   "source": [
    "word = input(\"Give me a word to see if it's a palindrome or not...\")\n",
    "backword = reverse(word)\n",
    "\n",
    "\n",
    "if word == backword:\n",
    "    print(\"Yup it's a palindrome\")\n",
    "else:\n",
    "    print(\"Nope...not a palindrome\")"
   ]
  },
  {
   "cell_type": "code",
   "execution_count": null,
   "id": "08602071-15a6-4beb-a718-ea6f04308ee2",
   "metadata": {},
   "outputs": [],
   "source": []
  }
 ],
 "metadata": {
  "kernelspec": {
   "display_name": "Python 3",
   "language": "python",
   "name": "python3"
  },
  "language_info": {
   "codemirror_mode": {
    "name": "ipython",
    "version": 3
   },
   "file_extension": ".py",
   "mimetype": "text/x-python",
   "name": "python",
   "nbconvert_exporter": "python",
   "pygments_lexer": "ipython3",
   "version": "3.8.5"
  }
 },
 "nbformat": 4,
 "nbformat_minor": 5
}
