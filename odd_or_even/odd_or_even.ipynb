{
 "cells": [
  {
   "cell_type": "markdown",
   "id": "2060b9ee-1107-4dfa-9aad-c80863e57aeb",
   "metadata": {},
   "source": [
    "# What should the program do?\n",
    "Ask the user for a number. Depending on whether the number is even or odd, print out an appropriate message to the user. Hint: how does an even / odd number react differently when divided by 2?\n",
    "\n",
    "Extras:\n",
    "\n",
    "1. If the number is a multiple of 4, print out a different message.\n",
    "2. Ask the user for two numbers: one number to check (call it num) and one number to divide by (check). If check divides evenly into num, tell that to the user. If not, print a different appropriate message."
   ]
  },
  {
   "cell_type": "code",
   "execution_count": 2,
   "id": "16ad05ea-9835-47b5-a67e-76e025e3ee78",
   "metadata": {},
   "outputs": [
    {
     "name": "stdin",
     "output_type": "stream",
     "text": [
      "Enter a number...above 0 and positive:  55\n"
     ]
    },
    {
     "name": "stdout",
     "output_type": "stream",
     "text": [
      "Your number is odd\n"
     ]
    },
    {
     "name": "stdin",
     "output_type": "stream",
     "text": [
      "Please enter another number : (Also positive and also above 0 )  66\n",
      "Please enter a number to dive it:  3\n"
     ]
    },
    {
     "name": "stdout",
     "output_type": "stream",
     "text": [
      "The number: 66 is divisible by 3\n"
     ]
    }
   ],
   "source": [
    "number = int(input(\"Enter a number...above 0 and positive: \"))\n",
    "if number % 2 == 0:\n",
    "    print(\"Your number is even\")\n",
    "    if number % 4 == 0 :\n",
    "        print(\"It is also divisible by 4\")\n",
    "else:\n",
    "    print(\"Your number is odd\")\n",
    "    \n",
    "new_num = int(input(\"Please enter another number : (Also positive and also above 0 ) \"))\n",
    "check = int(input(\"Please enter a number to divide it: \"))\n",
    "\n",
    "if new_num % check == 0:\n",
    "    print(f\"The number: {new_num} is divisible by {check}\")\n",
    "else:\n",
    "    print(\"The number is not divisible\")"
   ]
  },
  {
   "cell_type": "code",
   "execution_count": null,
   "id": "e594e747-ccf0-4452-846a-2fd87a19f2f3",
   "metadata": {},
   "outputs": [],
   "source": []
  }
 ],
 "metadata": {
  "kernelspec": {
   "display_name": "Python 3",
   "language": "python",
   "name": "python3"
  },
  "language_info": {
   "codemirror_mode": {
    "name": "ipython",
    "version": 3
   },
   "file_extension": ".py",
   "mimetype": "text/x-python",
   "name": "python",
   "nbconvert_exporter": "python",
   "pygments_lexer": "ipython3",
   "version": "3.8.5"
  }
 },
 "nbformat": 4,
 "nbformat_minor": 5
}
